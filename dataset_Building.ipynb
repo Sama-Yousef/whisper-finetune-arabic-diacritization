{
  "nbformat": 4,
  "nbformat_minor": 0,
  "metadata": {
    "colab": {
      "provenance": [],
      "private_outputs": true,
      "gpuType": "T4"
    },
    "kernelspec": {
      "name": "python3",
      "display_name": "Python 3"
    },
    "language_info": {
      "name": "python"
    },
    "accelerator": "GPU"
  },
  "cells": [
    {
      "cell_type": "code",
      "execution_count": null,
      "metadata": {
        "id": "gRct5TEQMjRg"
      },
      "outputs": [],
      "source": [
        "!pip install --upgrade pip\n",
        "!pip install --upgrade transformers\n"
      ]
    },
    {
      "cell_type": "code",
      "source": [
        "from google.colab import drive\n",
        "drive.mount('/content/drive')\n"
      ],
      "metadata": {
        "id": "yQEMnbMu043P"
      },
      "execution_count": null,
      "outputs": []
    },
    {
      "cell_type": "code",
      "source": [
        "from transformers import pipeline\n",
        "import torch\n",
        "\n",
        "# Use \"cuda:0\" if you have a CUDA-enabled GPU, otherwise use \"cpu\"\n",
        "pipe = pipeline(\"automatic-speech-recognition\", model=\"openai/whisper-small\", device=\"cuda:0\" if torch.cuda.is_available() else \"cpu\")\n",
        "\n",
        "######check the results of openai/whisper-small before the fine tuning by coparing the results with the dataset Rev3_9643_2021.xls ###"
      ],
      "metadata": {
        "id": "FXHzNf1OMs54"
      },
      "execution_count": null,
      "outputs": []
    },
    {
      "cell_type": "code",
      "source": [],
      "metadata": {
        "id": "VGyq3g_GQI5d"
      },
      "execution_count": null,
      "outputs": []
    },
    {
      "cell_type": "code",
      "source": [
        "import os\n",
        "import pandas as pd\n",
        "\n",
        "# Load the Excel file\n",
        "input_excel_path = \"/content/drive/MyDrive/Rev3_9643_2021.xlsx\"\n",
        "df = pd.read_excel(input_excel_path,header=None)\n",
        "\n",
        "# Update the first column with the full file path\n",
        "base_folder = \"/content/drive/MyDrive/wav_data\"  # Replace with the base folder containing the subfolders\n",
        "\n",
        "def construct_path(file_name):\n",
        "    if file_name.count('-') != 1:  # Skip rows where filename has more or less than one '-'\n",
        "        return None  # Set to None to indicate skipping\n",
        "    folder_name, _ = file_name.split('-')  # Split by '-' to get the folder name\n",
        "    file_path = os.path.join(base_folder, folder_name, file_name)\n",
        "    return file_path\n",
        "\n",
        "df.iloc[:, 0] = df.iloc[:, 0].apply(construct_path)\n",
        "\n",
        "# Save the updated DataFrame back to Excel\n",
        "output_excel_path = \"updated_Rev3_9643_2021.xlsx\"  # Replace with the desired output path\n",
        "df.to_excel(output_excel_path, index=False)\n",
        "\n",
        "print(f\"Updated file saved to {output_excel_path}\")\n"
      ],
      "metadata": {
        "id": "Km-VUdN6NEAD"
      },
      "execution_count": null,
      "outputs": []
    },
    {
      "cell_type": "code",
      "source": [
        "df.head()"
      ],
      "metadata": {
        "id": "Je1rvURl1EAa"
      },
      "execution_count": null,
      "outputs": []
    },
    {
      "cell_type": "code",
      "source": [
        "!pip install pydub\n",
        "import os\n",
        "import pandas as pd\n",
        "from pydub import AudioSegment\n",
        "\n",
        "# Load the Excel file\n",
        "input_excel_path = \"updated_Rev3_9643_2021.xlsx\" # Replace with your .xlsx file path\n",
        "df = pd.read_excel(input_excel_path, header=None)\n",
        "df.head()"
      ],
      "metadata": {
        "id": "KKWLH6P436Dl"
      },
      "execution_count": null,
      "outputs": []
    },
    {
      "cell_type": "code",
      "source": [
        "!pip install pydub\n",
        "import os\n",
        "import pandas as pd\n",
        "from pydub import AudioSegment\n",
        "\n",
        "# Load the Excel file\n",
        "input_excel_path = \"updated_Rev3_9643_2021.xlsx\" # Replace with your .xlsx file path\n",
        "df = pd.read_excel(input_excel_path, header=None)\n",
        "\n",
        "# Base folder containing the audio files\n",
        "base_folder = \"/content/drive/MyDrive/wav_data\"  # Replace with your base folder\n",
        "\n",
        "# Get the first column name\n",
        "first_column = df.columns[0]\n",
        "output_audio_folder = \"converted_audio\"  # Replace with your desired folder\n",
        "os.makedirs(output_audio_folder, exist_ok=True)  # Create folder if it doesn't exist\n",
        "\n",
        "# Function to load audio as AudioSegment\n",
        "def load_audio(file_path,index):\n",
        "    try:\n",
        "        file_path = file_path.strip()  # Remove extra spaces or newline characters\n",
        "        audio_data = AudioSegment.from_file(file_path)\n",
        "        new_audio_path = os.path.join(output_audio_folder, f\"audio_{index}.wav\")\n",
        "        audio_data.export(new_audio_path, format=\"wav\")\n",
        "        return new_audio_path\n",
        "    except Exception as e:\n",
        "        print(f\"Error loading file {file_path}: {e}\")\n",
        "        return None\n",
        "\n",
        "# Replace the paths with audio data or mark for removal\n",
        "df[first_column] = df[first_column].apply(\n",
        "    lambda x: load_audio(x, df.index[df[first_column] == x][0]) if isinstance(x, str) and os.path.exists(x.strip()) else None\n",
        ")\n",
        "\n",
        "# Remove rows with missing audio data\n",
        "df = df.dropna(subset=[first_column])\n",
        "\n",
        "# Rename columns to \"audio\" and \"sentence\"\n",
        "df.columns = [\"audio\", \"sentence\"]\n",
        "\n",
        "# Save the updated dataset\n",
        "output_excel_path = \"updated_audio_dataset.xlsx\"  # Replace with your desired output file path\n",
        "df.to_excel(output_excel_path, index=False)\n",
        "\n",
        "print(f\"Updated dataset saved to {output_excel_path}\")\n"
      ],
      "metadata": {
        "id": "iGsFA8JOap-W"
      },
      "execution_count": null,
      "outputs": []
    },
    {
      "cell_type": "code",
      "source": [],
      "metadata": {
        "id": "sXm5SK77gTd7"
      },
      "execution_count": null,
      "outputs": []
    },
    {
      "cell_type": "code",
      "source": [
        "!pip install datasets\n",
        "from datasets import Dataset\n",
        "from datasets import Audio\n",
        "import pandas as pd\n",
        "\n",
        "# Path to the Excel file\n",
        "input_excel_path = \"updated_audio_dataset.xlsx\"  # Replace with your Excel file path\n",
        "\n",
        "# Read the Excel file\n",
        "df = pd.read_excel(input_excel_path)\n",
        "\n",
        "# Ensure the DataFrame has the correct columns\n",
        "assert \"audio\" in df.columns and \"sentence\" in df.columns, \"The Excel file must contain 'audio' and 'sentence' columns.\"\n",
        "\n",
        "# Structure data for Hugging Face Dataset\n",
        "data = {\n",
        "    \"audio\": df[\"audio\"].tolist(),  # List of audio file paths\n",
        "    \"sentence\": df[\"sentence\"].tolist()  # List of text sentences\n",
        "}\n",
        "\n",
        "# Create the Hugging Face Dataset\n",
        "dataset = Dataset.from_dict(data)\n",
        "\n",
        "# Cast the \"audio\" column to Audio type with the desired sampling rate\n",
        "dataset = dataset.cast_column(\"audio\", Audio(sampling_rate=16000))\n",
        "\n",
        "# Print the dataset structure\n",
        "print(dataset)\n",
        "\n",
        "# Optionally, save the dataset to Hugging Face's DatasetDict or push to the hub\n",
        "# For now, save locally as Arrow format\n",
        "\n"
      ],
      "metadata": {
        "id": "daAP_D8CdkvS"
      },
      "execution_count": null,
      "outputs": []
    },
    {
      "cell_type": "code",
      "source": [
        "from huggingface_hub import login\n",
        "\n",
        "login()\n"
      ],
      "metadata": {
        "id": "86IwfN0Ksr3A"
      },
      "execution_count": null,
      "outputs": []
    },
    {
      "cell_type": "code",
      "source": [
        "dataset.push_to_hub(\"updated_Rev3_9643_2021\")"
      ],
      "metadata": {
        "id": "9YMnTxxss4Xk"
      },
      "execution_count": null,
      "outputs": []
    }
  ]
}