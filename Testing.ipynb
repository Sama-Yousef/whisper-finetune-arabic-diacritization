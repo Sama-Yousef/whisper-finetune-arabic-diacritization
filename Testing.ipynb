{
  "nbformat": 4,
  "nbformat_minor": 0,
  "metadata": {
    "colab": {
      "provenance": []
    },
    "kernelspec": {
      "name": "python3",
      "display_name": "Python 3"
    },
    "language_info": {
      "name": "python"
    }
  },
  "cells": [
    {
      "cell_type": "code",
      "source": [],
      "metadata": {
        "id": "oVA-_fswXn7Q"
      },
      "execution_count": null,
      "outputs": []
    },
    {
      "cell_type": "code",
      "execution_count": null,
      "metadata": {
        "colab": {
          "base_uri": "https://localhost:8080/"
        },
        "id": "SmgSxbFBTNNL",
        "outputId": "2c4ed8b7-b674-4246-aeee-f3170745a270"
      },
      "outputs": [
        {
          "output_type": "stream",
          "name": "stdout",
          "text": [
            "Requirement already satisfied: pip in /usr/local/lib/python3.10/dist-packages (24.1.2)\n",
            "Collecting pip\n",
            "  Downloading pip-24.3.1-py3-none-any.whl.metadata (3.7 kB)\n",
            "Downloading pip-24.3.1-py3-none-any.whl (1.8 MB)\n",
            "\u001b[2K   \u001b[90m━━━━━━━━━━━━━━━━━━━━━━━━━━━━━━━━━━━━━━━━\u001b[0m \u001b[32m1.8/1.8 MB\u001b[0m \u001b[31m18.8 MB/s\u001b[0m eta \u001b[36m0:00:00\u001b[0m\n",
            "\u001b[?25hInstalling collected packages: pip\n",
            "  Attempting uninstall: pip\n",
            "    Found existing installation: pip 24.1.2\n",
            "    Uninstalling pip-24.1.2:\n",
            "      Successfully uninstalled pip-24.1.2\n",
            "Successfully installed pip-24.3.1\n",
            "Requirement already satisfied: transformers in /usr/local/lib/python3.10/dist-packages (4.46.2)\n",
            "Collecting transformers\n",
            "  Downloading transformers-4.46.3-py3-none-any.whl.metadata (44 kB)\n",
            "Requirement already satisfied: filelock in /usr/local/lib/python3.10/dist-packages (from transformers) (3.16.1)\n",
            "Requirement already satisfied: huggingface-hub<1.0,>=0.23.2 in /usr/local/lib/python3.10/dist-packages (from transformers) (0.26.2)\n",
            "Requirement already satisfied: numpy>=1.17 in /usr/local/lib/python3.10/dist-packages (from transformers) (1.26.4)\n",
            "Requirement already satisfied: packaging>=20.0 in /usr/local/lib/python3.10/dist-packages (from transformers) (24.2)\n",
            "Requirement already satisfied: pyyaml>=5.1 in /usr/local/lib/python3.10/dist-packages (from transformers) (6.0.2)\n",
            "Requirement already satisfied: regex!=2019.12.17 in /usr/local/lib/python3.10/dist-packages (from transformers) (2024.9.11)\n",
            "Requirement already satisfied: requests in /usr/local/lib/python3.10/dist-packages (from transformers) (2.32.3)\n",
            "Requirement already satisfied: tokenizers<0.21,>=0.20 in /usr/local/lib/python3.10/dist-packages (from transformers) (0.20.3)\n",
            "Requirement already satisfied: safetensors>=0.4.1 in /usr/local/lib/python3.10/dist-packages (from transformers) (0.4.5)\n",
            "Requirement already satisfied: tqdm>=4.27 in /usr/local/lib/python3.10/dist-packages (from transformers) (4.66.6)\n",
            "Requirement already satisfied: fsspec>=2023.5.0 in /usr/local/lib/python3.10/dist-packages (from huggingface-hub<1.0,>=0.23.2->transformers) (2024.10.0)\n",
            "Requirement already satisfied: typing-extensions>=3.7.4.3 in /usr/local/lib/python3.10/dist-packages (from huggingface-hub<1.0,>=0.23.2->transformers) (4.12.2)\n",
            "Requirement already satisfied: charset-normalizer<4,>=2 in /usr/local/lib/python3.10/dist-packages (from requests->transformers) (3.4.0)\n",
            "Requirement already satisfied: idna<4,>=2.5 in /usr/local/lib/python3.10/dist-packages (from requests->transformers) (3.10)\n",
            "Requirement already satisfied: urllib3<3,>=1.21.1 in /usr/local/lib/python3.10/dist-packages (from requests->transformers) (2.2.3)\n",
            "Requirement already satisfied: certifi>=2017.4.17 in /usr/local/lib/python3.10/dist-packages (from requests->transformers) (2024.8.30)\n",
            "Downloading transformers-4.46.3-py3-none-any.whl (10.0 MB)\n",
            "\u001b[2K   \u001b[90m━━━━━━━━━━━━━━━━━━━━━━━━━━━━━━━━━━━━━━━━\u001b[0m \u001b[32m10.0/10.0 MB\u001b[0m \u001b[31m74.0 MB/s\u001b[0m eta \u001b[36m0:00:00\u001b[0m\n",
            "\u001b[?25hInstalling collected packages: transformers\n",
            "  Attempting uninstall: transformers\n",
            "    Found existing installation: transformers 4.46.2\n",
            "    Uninstalling transformers-4.46.2:\n",
            "      Successfully uninstalled transformers-4.46.2\n",
            "Successfully installed transformers-4.46.3\n"
          ]
        }
      ],
      "source": [
        "!pip install --upgrade pip\n",
        "!pip install --upgrade transformers"
      ]
    },
    {
      "cell_type": "code",
      "source": [
        "gpu_info = !nvidia-smi\n",
        "gpu_info = '\\n'.join(gpu_info)\n",
        "if gpu_info.find('failed') >= 0:\n",
        "  print('Not connected to a GPU')\n",
        "else:\n",
        "  print(gpu_info)"
      ],
      "metadata": {
        "colab": {
          "base_uri": "https://localhost:8080/"
        },
        "id": "CTg1b5FbXrzD",
        "outputId": "9421d894-3c55-4222-fe04-22c53ade8679"
      },
      "execution_count": null,
      "outputs": [
        {
          "output_type": "stream",
          "name": "stdout",
          "text": [
            "/bin/bash: line 1: nvidia-smi: command not found\n"
          ]
        }
      ]
    },
    {
      "cell_type": "code",
      "source": [
        "from transformers import pipeline\n",
        "import torch\n",
        "pipe = pipeline(\"automatic-speech-recognition\", model=\"openai/whisper-small\")\n",
        "result = pipe(\"مبروك عطية واللغة العربية فيديو مضحك.mp3\",return_timestamps=True)\n"
      ],
      "metadata": {
        "colab": {
          "base_uri": "https://localhost:8080/"
        },
        "id": "sCjSDN-HTa4c",
        "outputId": "8b564c96-e283-4181-8654-4640c8d9ae06"
      },
      "execution_count": null,
      "outputs": [
        {
          "output_type": "stream",
          "name": "stderr",
          "text": [
            "/usr/local/lib/python3.10/dist-packages/transformers/models/whisper/generation_whisper.py:509: FutureWarning: The input name `inputs` is deprecated. Please make sure to use `input_features` instead.\n",
            "  warnings.warn(\n"
          ]
        }
      ]
    },
    {
      "cell_type": "code",
      "source": [
        "result"
      ],
      "metadata": {
        "colab": {
          "base_uri": "https://localhost:8080/"
        },
        "id": "PWVxZ0mHTdw3",
        "outputId": "9ef6a193-49fe-4659-c988-c0421e1d0959"
      },
      "execution_count": null,
      "outputs": [
        {
          "output_type": "execute_result",
          "data": {
            "text/plain": [
              "{'text': ' اتكلم حدرتك في رجل ينفق على بيته وعلى زوجاته ويه على بيته جميلة دي واللغة العربية السليمة دي رجل ينفق على بيته وعلى زوجاته الله والله على اللغة كلتني فوقنا استطيع يا دكتور مبروك انا اعتقد اصرف عليه من ساعة مرتبط بي لغاية ما بقى عندنا والذ عنده عشر سنوات بعد ذلك هو وطبعا سافر معي إلى خارج البلاد واغتانا وعمل سروع ثم عادت خونني مع أخرى لمدة عامين وشرحة في الزواج وهو معي دون أن أدريه أنت مدرسة تغعربية؟ نعم مدرسة تغعربية؟ أنا أسرح أنا أسرح بسوط بسلوب كده أوي أنا دكتورة في الجامعة يا دكتور. نعم. أنا دكتورة في الجامعة. الله مسل على نبي. دانت أنا سعيد بك بقى. دكتور مبروك. أنا الزلمت. الله. يكري سمعينه. اللغة عربية سليمة كده. دقيقة. دقيقة لله. بروك هو كان لا يعني لم يكن في جوابته شيء. نعم. يماركبط به. نعم. بعد ان ملك النقود وكل شيء خانني معه اخرى مع ان هذه الاخرى. لا بقى. معانا. لا ايك. كده موضب ا. يعني تحييني وتموتيني لا. ما في شف الدنيا عاج اسمها معانا يا استاذة يا دكتورة. فتح الهمزة واقبون. وانت تعلمين خلافهم في معا. لكن على اية الاحوال وفي كل للخلاصات لا يمكن تكسر همزت ان ادبدا بعد معه لانها وما بعدها مصدر مؤول و هو في موضع الجري بعد معه اقول مع انه ازاي يدزنها ربي اضيهولات. راحت. يا مؤياد. انا منفاعلة. ايوكيد. انا منفاعلة. انت منفاعلة نعارب. بس ارقوك يعني ركيزي معانا. لكن دكتر مدعية دكتر مدعية',\n",
              " 'chunks': [{'timestamp': (0.0, 6.3),\n",
              "   'text': ' اتكلم حدرتك في رجل ينفق على بيته وعلى زوجاته'},\n",
              "  {'timestamp': (6.3, 9.6),\n",
              "   'text': ' ويه على بيته جميلة دي واللغة العربية السليمة دي'},\n",
              "  {'timestamp': (9.6, 13.3), 'text': ' رجل ينفق على بيته وعلى زوجاته'},\n",
              "  {'timestamp': (13.3, 14.1), 'text': ' الله'},\n",
              "  {'timestamp': (14.1, 17.4), 'text': ' والله على اللغة'},\n",
              "  {'timestamp': (17.4, 19.8), 'text': ' كلتني فوقنا استطيع'},\n",
              "  {'timestamp': (19.8, 26.1),\n",
              "   'text': ' يا دكتور مبروك انا اعتقد اصرف عليه من ساعة مرتبط بي'},\n",
              "  {'timestamp': (26.1, 29.8),\n",
              "   'text': ' لغاية ما بقى عندنا والذ عنده عشر سنوات'},\n",
              "  {'timestamp': (0.0, 6.8),\n",
              "   'text': ' بعد ذلك هو وطبعا سافر معي إلى خارج البلاد'},\n",
              "  {'timestamp': (6.8, 8.6), 'text': ' واغتانا وعمل سروع'},\n",
              "  {'timestamp': (8.6, 13.0), 'text': ' ثم عادت خونني مع أخرى'},\n",
              "  {'timestamp': (13.0, 18.0), 'text': ' لمدة عامين وشرحة في الزواج وهو معي'},\n",
              "  {'timestamp': (18.0, 19.6), 'text': ' دون أن أدريه'},\n",
              "  {'timestamp': (19.6, 21.4), 'text': ' أنت مدرسة تغعربية؟'},\n",
              "  {'timestamp': (21.4, 22.2), 'text': ' نعم'},\n",
              "  {'timestamp': (22.2, 23.8), 'text': ' مدرسة تغعربية؟'},\n",
              "  {'timestamp': (23.8, 26.0), 'text': ' أنا أسرح'},\n",
              "  {'timestamp': (26.0, 28.0), 'text': ' أنا أسرح بسوط بسلوب كده أوي'},\n",
              "  {'timestamp': (0.0, 4.86),\n",
              "   'text': ' أنا دكتورة في الجامعة يا دكتور. نعم. أنا دكتورة في الجامعة. الله'},\n",
              "  {'timestamp': (4.86, 10.26),\n",
              "   'text': ' مسل على نبي. دانت أنا سعيد بك بقى. دكتور مبروك. أنا الزلمت. الله.'},\n",
              "  {'timestamp': (10.26, 16.32),\n",
              "   'text': ' يكري سمعينه. اللغة عربية سليمة كده. دقيقة. دقيقة لله. بروك هو'},\n",
              "  {'timestamp': (16.32, 22.78),\n",
              "   'text': ' كان لا يعني لم يكن في جوابته شيء. نعم. يماركبط به. نعم. بعد'},\n",
              "  {'timestamp': (22.78, 29.3),\n",
              "   'text': ' ان ملك النقود وكل شيء خانني معه اخرى مع ان هذه الاخرى. لا بقى.'},\n",
              "  {'timestamp': (0.0, 9.08),\n",
              "   'text': ' معانا. لا ايك. كده موضب ا. يعني تحييني وتموتيني لا. ما في'},\n",
              "  {'timestamp': (9.08, 14.64),\n",
              "   'text': ' شف الدنيا عاج اسمها معانا يا استاذة يا دكتورة. فتح الهمزة'},\n",
              "  {'timestamp': (14.64, 23.16),\n",
              "   'text': ' واقبون. وانت تعلمين خلافهم في معا. لكن على اية الاحوال وفي كل'},\n",
              "  {'timestamp': (0.0, 7.24),\n",
              "   'text': ' للخلاصات لا يمكن تكسر همزت ان ادبدا بعد معه لانها وما'},\n",
              "  {'timestamp': (7.24, 13.88),\n",
              "   'text': ' بعدها مصدر مؤول و هو في موضع الجري بعد معه اقول مع انه ازاي'},\n",
              "  {'timestamp': (13.88, 21.12),\n",
              "   'text': ' يدزنها ربي اضيهولات. راحت. يا مؤياد. انا منفاعلة. ايوكيد. انا'},\n",
              "  {'timestamp': (21.12, 26.7),\n",
              "   'text': ' منفاعلة. انت منفاعلة نعارب. بس ارقوك يعني ركيزي معانا. لكن'},\n",
              "  {'timestamp': (0.0, 2.0), 'text': ' دكتر مدعية دكتر مدعية'}]}"
            ]
          },
          "metadata": {},
          "execution_count": 12
        }
      ]
    },
    {
      "cell_type": "code",
      "source": [
        "pipe = pipeline(\"automatic-speech-recognition\", model=\"SamaYousef/whisper-small-Arabic-finetund\")\n",
        "result = pipe(\"مبروك عطية واللغة العربية فيديو مضحك.mp3\",return_timestamps=True)"
      ],
      "metadata": {
        "colab": {
          "base_uri": "https://localhost:8080/"
        },
        "id": "QEIBQ2WOTj9C",
        "outputId": "90520542-1fa9-4a9d-81d0-f555125141bf"
      },
      "execution_count": null,
      "outputs": [
        {
          "output_type": "stream",
          "name": "stderr",
          "text": [
            "/usr/local/lib/python3.10/dist-packages/transformers/models/whisper/generation_whisper.py:509: FutureWarning: The input name `inputs` is deprecated. Please make sure to use `input_features` instead.\n",
            "  warnings.warn(\n"
          ]
        }
      ]
    },
    {
      "cell_type": "code",
      "source": [
        "result"
      ],
      "metadata": {
        "colab": {
          "base_uri": "https://localhost:8080/"
        },
        "id": "n4WExYv4TmP7",
        "outputId": "666f85e6-aa4d-47f5-db34-f8e6c44dee1f"
      },
      "execution_count": null,
      "outputs": [
        {
          "output_type": "execute_result",
          "data": {
            "text/plain": [
              "{'text': 'فِي كَلَّم حَدرِتَك فِي رَجُل يُنفِق عَلَى بَيتِهِ وَ عَلَى الغُوجَات وَ إِعَلَى بَيتِهِ جَمِيلَة دِي وَ اللُّغَة العَرَبِيَّة الزَّلِي مَا دِي رَجُلٌ لَه يُنفِقُ عَلَى بَيتِه وَ عَلَى زَوجَاتِه وَ إِكَلَّه اللَّه عَلُّغَة اللَّه عَلُّغَة كَالَّتَنِ فَوقَنَا أَستَطِيَّة يَدُكُتُور مَبرُوك أَنَّ إِعَاتَّه أَصرِف عَلَيه مِن سِاعِة مَرتَبَطِ بِيه لِغَايِد مَبَق عَندِنَا وَلَه دِعِنبُ عَشَر سَنَوَات! نَام! بَعدَ زَلِكُ وَ طَبعًا سَافَرَ مَعِي إِلَى خَارِجِ البِلَات وَ أَغتَانَه وَ عَمَلَ سَروَة ثُم عَادَصَ خَنَنِي مَعَ أُخرَى لِمُدِّد عَامَيْن وَ إِشَارَحَ فِي الزَّوَاج وَ هُوَ مَعِي دُونَ أَنْ أَدْرِيْه إِنْتُه مُدَلِسِتُ لُغَعْرَبِيَّة مُدَلِسِتُ لُغَعْرَبِيَّة أَسَنَ مَبْسُود بُو إِسْلُو بِكْدَاءَ وِي إِعْنِ كَئِنِ إِعْنَ دُكْتُورَ فِي الْجَامْعِيَّة دُكْتُورْ إِعْنَ دُكْتُورَ فِي الْجَامْعِيْة أَلَّهُ مَا سَلَّ عَنَّه بِدَ إِنْتَ أَنَّ سَعِيْد بِي كِبَأَة إِدُكْتُور مَبْرُوْك أَنَ زُلِمْت إِعْنِي كِدَ سَمْعِيْنَ لُغَعْرَبِيَّة سَلِيْمَ كِدَ دِي إِي أَه إيئة لله. بروك هو كَانَ لا يعني لَم يَكُن فِي جُعبَتِهِ شَيمَعاً.مَرْتَبَطْ بِهِ.نَعْم.بَعْدَ أَنْ مَلَكَة الْنُقُود وَكُلِّ جَي إِخَانَنِي مَعَ أُخْرَى مَعَ إِنَّ هَذِهِ الْأُخْرَى لَأَبَأَه مَعَ أَنَّ لَأَغِيَد كِذَا مُؤُذْ بَأه يَعنِ تِحِيينِ وُتَمَوِّتِينِ لَأَه مَفِيش فِي الدُّونِيَه عَاجَ اسْمَهَا مَعَ إِنَّ يَا أُسْتَازَهِ دُكْتُور فَتْحُ الْهَمْزَةِ وَاجِبُون وَأَنْتِ ثعالة اعلى مين خلافَهُم فِي مَعَه لَكِن عَلَى أَيَّةِ الأَحوَال وَ فِي كُلّ الِلخِلَاطَات لَا يُمكِن تُكسَر هَمزِت إِنَّ أَدَّدَاً بَعدِ مَعَه لَأَنَّهَا وَ مَا بَعدَهَا مَصدَرٌ مُؤَوَّلٌ وَ هُوَ فِي مَوضِعِ الْجَرِّ بَعْدَ مَعَه أَوْل مَعَه إِنَّ الزَّاء يَدَزِ الْهَارَب يَدْيَهُ لَات رَاحِت يَمُؤيَاد أَنَ مُنْفَاعِلَ أَي وَكِد أَنَ مُنْفَاعِلَ إِنْتِ مُنْفَاعِل أَنْ عَنْ عَرِي بَس إِنْمَعَ لِيْشْدِيْ',\n",
              " 'chunks': [{'timestamp': (0.0, 15.16),\n",
              "   'text': 'فِي كَلَّم حَدرِتَك فِي رَجُل يُنفِق عَلَى بَيتِهِ وَ عَلَى الغُوجَات وَ إِعَلَى بَيتِهِ جَمِيلَة دِي وَ اللُّغَة العَرَبِيَّة الزَّلِي مَا دِي رَجُلٌ لَه يُنفِقُ عَلَى بَيتِه وَ عَلَى زَوجَاتِه وَ إِكَلَّه'},\n",
              "  {'timestamp': (0.0, 2.0), 'text': ' اللَّه عَلُّغَة اللَّه عَلُّغَة'},\n",
              "  {'timestamp': (2.0, 5.5), 'text': ' كَالَّتَنِ فَوقَنَا أَستَطِيَّة'},\n",
              "  {'timestamp': (5.5, 11.48),\n",
              "   'text': ' يَدُكُتُور مَبرُوك أَنَّ إِعَاتَّه أَصرِف عَلَيه مِن سِاعِة مَرتَبَطِ بِيه'},\n",
              "  {'timestamp': (11.48, 14.5),\n",
              "   'text': ' لِغَايِد مَبَق عَندِنَا وَلَه دِعِنبُ عَشَر سَنَوَات!'},\n",
              "  {'timestamp': (14.5, 15.5), 'text': ' نَام!'},\n",
              "  {'timestamp': (15.5, 21.14),\n",
              "   'text': ' بَعدَ زَلِكُ وَ طَبعًا سَافَرَ مَعِي إِلَى خَارِجِ البِلَات'},\n",
              "  {'timestamp': (21.14, 27.58),\n",
              "   'text': ' وَ أَغتَانَه وَ عَمَلَ سَروَة ثُم عَادَصَ خَنَنِي مَعَ أُخرَى'},\n",
              "  {'timestamp': (0.0, 4.76),\n",
              "   'text': ' لِمُدِّد عَامَيْن وَ إِشَارَحَ فِي الزَّوَاج وَ هُوَ مَعِي دُونَ أَنْ أَدْرِيْه إِنْتُه مُدَلِسِتُ لُغَعْرَبِيَّة مُدَلِسِتُ لُغَعْرَبِيَّة أَسَنَ مَبْسُود بُو إِسْلُو بِكْدَاءَ وِي إِعْنِ كَئِنِ إِعْنَ دُكْتُورَ فِي الْجَامْعِيَّة دُكْتُورْ إِعْنَ دُكْتُورَ فِي الْجَامْعِيْة أَلَّهُ مَا سَلَّ عَنَّه بِدَ إِنْتَ أَنَّ سَعِيْد بِي كِبَأَة إِدُكْتُور مَبْرُوْك أَنَ زُلِمْت إِعْنِي كِدَ سَمْعِيْنَ لُغَعْرَبِيَّة سَلِيْمَ كِدَ دِي إِي أَه إيئة لله. بروك هو كَانَ لا يعني لَم يَكُن فِي جُعبَتِهِ شَي'},\n",
              "  {'timestamp': (0.0, 5.68),\n",
              "   'text': 'مَعاً.مَرْتَبَطْ بِهِ.نَعْم.بَعْدَ أَنْ مَلَكَة الْنُقُود وَكُلِّ'},\n",
              "  {'timestamp': (5.68, 10.56),\n",
              "   'text': ' جَي إِخَانَنِي مَعَ أُخْرَى مَعَ إِنَّ هَذِهِ الْأُخْرَى لَأَبَأَه مَعَ أَنَّ'},\n",
              "  {'timestamp': (10.56, 20.28),\n",
              "   'text': ' لَأَغِيَد كِذَا مُؤُذْ بَأه يَعنِ تِحِيينِ وُتَمَوِّتِينِ لَأَه مَفِيش فِي الدُّونِيَه عَاجَ اسْمَهَا مَعَ'},\n",
              "  {'timestamp': (20.28, 26.52),\n",
              "   'text': ' إِنَّ يَا أُسْتَازَهِ دُكْتُور فَتْحُ الْهَمْزَةِ وَاجِبُون وَأَنْتِ'},\n",
              "  {'timestamp': (0.0, 6.36),\n",
              "   'text': ' ثعالة اعلى مين خلافَهُم فِي مَعَه لَكِن عَلَى أَيَّةِ الأَحوَال وَ فِي كُلّ'},\n",
              "  {'timestamp': (6.36, 16.96),\n",
              "   'text': ' الِلخِلَاطَات لَا يُمكِن تُكسَر هَمزِت إِنَّ أَدَّدَاً بَعدِ مَعَه لَأَنَّهَا وَ مَا بَعدَهَا مَصدَرٌ مُؤَوَّلٌ وَ هُوَ فِي مَوضِعِ'},\n",
              "  {'timestamp': (16.96, 29.98),\n",
              "   'text': ' الْجَرِّ بَعْدَ مَعَه أَوْل مَعَه إِنَّ الزَّاء يَدَزِ الْهَارَب يَدْيَهُ لَات رَاحِت يَمُؤيَاد أَنَ مُنْفَاعِلَ أَي وَكِد أَنَ مُنْفَاعِلَ إِنْتِ مُنْفَاعِل أَنْ عَنْ عَرِي بَس إِنْ'},\n",
              "  {'timestamp': (0.0, 9.68), 'text': 'مَعَ لِيْشْدِيْ'}]}"
            ]
          },
          "metadata": {},
          "execution_count": 14
        }
      ]
    },
    {
      "cell_type": "code",
      "source": [
        "pipe = pipeline(\"automatic-speech-recognition\", model=\"openai/whisper-small\")\n",
        "result = pipe(\"اللمبي مترجم بطريقة نتفليكس 😀.mp3\",return_timestamps=True)"
      ],
      "metadata": {
        "colab": {
          "base_uri": "https://localhost:8080/"
        },
        "id": "a01LU8bDaLBs",
        "outputId": "e286fd25-ad65-458f-849c-1268776ee982"
      },
      "execution_count": null,
      "outputs": [
        {
          "output_type": "stream",
          "name": "stderr",
          "text": [
            "/usr/local/lib/python3.10/dist-packages/transformers/models/whisper/generation_whisper.py:509: FutureWarning: The input name `inputs` is deprecated. Please make sure to use `input_features` instead.\n",
            "  warnings.warn(\n"
          ]
        }
      ]
    },
    {
      "cell_type": "code",
      "source": [
        "result"
      ],
      "metadata": {
        "colab": {
          "base_uri": "https://localhost:8080/"
        },
        "id": "Us72bMAIaPKV",
        "outputId": "289336fd-4ca3-44c9-a217-ebb9d4ed2a6d"
      },
      "execution_count": null,
      "outputs": [
        {
          "output_type": "execute_result",
          "data": {
            "text/plain": [
              "{'text': ' مرحباً انا نعمل لنا مدعنتي بصناعة في هذه الليلة الزرقة لقد نصرف يا نوس فلتستكيني يا بنت انتها الأمر فلتأمر اياتها الحسناء طلباتك تتزوج من ضابط صاحن يا متشرر ان نصف سكاني مقطعت يسعون وراء لعلك مطلوبة للعدالة اذهب يا بنا المنكوبة سمعن وطاعة يا أمة زيجة مباركة يا الانبي وفكك الله يا صاح مبارك يا الانبي لهم ما لهم عليهم عليه يا رجل لايته لايتم هذا الزفاف ايه تهالام سيتم الزفاف يا نوسة رغم انفك حتى لو اتررت الانستيجار احدهن للزواج فانر من يستأجرها يا رح أمك ارأيت هذا يا خالتي لنغتص هذه القصة يا نوسة حفظا على المرارة لا اريده لن الفضيح ايه فضيحة يا سيدة فرنسا ولدك لم يقتلب ابنتي ولم يمسس منها شعرة واحدة هذا قولك انت انت وان لكن إن حضثة وطلبها أحدهم للزواج وسأل الناس ماذا يقولون؟ يقولون لقد طرقها العرسل للا تزفاف بأس الخبر هل هي سيئة السمعة؟ إنها غراء فرعقو مصكل مع وارد وها تمشي الهوانة كما يمشي الواجل وحلو فاسمع ماذا يقولون؟ إننا نراضون فاليقار آجه يقالوا ما يقار لكن لنا تزواج من هذا الشقي كوني محترمة تانيا نوسة وإلا فوقسموا بالطلاق بالتلام وناتو مو قلوية ورش لحلاله حسنان؟ ما خبك يا فتاة؟ ألا يملأ واحدوا معي ناك يا أماذة فالتدلي بدلو كيا أمام ويكلتك أمك أن نجدتوا يعباد الله صافكة صغيري إن حدث فقد ربيحتي إنه مدين ينوز ينتظر السفافة لتفريج كربة عظم',\n",
              " 'chunks': [{'timestamp': (0.0, 2.0), 'text': ' مرحباً'},\n",
              "  {'timestamp': (0.0, 3.16),\n",
              "   'text': ' انا نعمل لنا مدعنتي بصناعة في هذه الليلة الزرقة'},\n",
              "  {'timestamp': (3.16, 5.88), 'text': ' لقد نصرف يا نوس فلتستكيني يا بنت'},\n",
              "  {'timestamp': (5.88, 7.24), 'text': ' انتها الأمر'},\n",
              "  {'timestamp': (8.24, 9.96), 'text': ' فلتأمر اياتها الحسناء'},\n",
              "  {'timestamp': (9.96, 10.8), 'text': ' طلباتك'},\n",
              "  {'timestamp': (10.8, 12.24), 'text': ' تتزوج من ضابط'},\n",
              "  {'timestamp': (12.24, 13.76), 'text': ' صاحن يا متشرر'},\n",
              "  {'timestamp': (13.76, 15.84), 'text': ' ان نصف سكاني مقطعت يسعون وراء'},\n",
              "  {'timestamp': (15.84, 17.72), 'text': ' لعلك مطلوبة للعدالة'},\n",
              "  {'timestamp': (17.72, 19.64), 'text': ' اذهب يا بنا المنكوبة'},\n",
              "  {'timestamp': (19.64, 21.24), 'text': ' سمعن وطاعة يا أمة'},\n",
              "  {'timestamp': (23.36, 24.88), 'text': ' زيجة مباركة يا الانبي'},\n",
              "  {'timestamp': (24.88, 26.88), 'text': ' وفكك الله يا صاح'},\n",
              "  {'timestamp': (26.88, 28.12), 'text': ' مبارك يا الانبي'},\n",
              "  {'timestamp': (0.0, 2.0), 'text': ' لهم ما لهم عليهم عليه يا رجل'},\n",
              "  {'timestamp': (2.0, 3.68), 'text': ' لايته لايتم هذا الزفاف'},\n",
              "  {'timestamp': (3.68, 4.68), 'text': ' ايه تهالام'},\n",
              "  {'timestamp': (4.68, 6.68), 'text': ' سيتم الزفاف يا نوسة رغم انفك'},\n",
              "  {'timestamp': (6.68, 9.18), 'text': ' حتى لو اتررت الانستيجار احدهن للزواج'},\n",
              "  {'timestamp': (10.68, 12.68), 'text': ' فانر من يستأجرها يا رح أمك'},\n",
              "  {'timestamp': (14.18, 15.68), 'text': ' ارأيت هذا يا خالتي'},\n",
              "  {'timestamp': (15.68, 17.18), 'text': ' لنغتص هذه القصة يا نوسة'},\n",
              "  {'timestamp': (17.18, 18.36), 'text': ' حفظا على المرارة'},\n",
              "  {'timestamp': (18.36, 19.36), 'text': ' لا اريده'},\n",
              "  {'timestamp': (19.36, 20.36), 'text': ' لن الفضيح'},\n",
              "  {'timestamp': (20.36, 22.36), 'text': ' ايه فضيحة يا سيدة فرنسا'},\n",
              "  {'timestamp': (22.36, 25.36),\n",
              "   'text': ' ولدك لم يقتلب ابنتي ولم يمسس منها شعرة واحدة'},\n",
              "  {'timestamp': (25.36, 26.68), 'text': ' هذا قولك انت'},\n",
              "  {'timestamp': (26.68, 27.56), 'text': ' انت وان'},\n",
              "  {'timestamp': (0.0, 2.66),\n",
              "   'text': ' لكن إن حضثة وطلبها أحدهم للزواج وسأل الناس'},\n",
              "  {'timestamp': (2.66, 3.66), 'text': ' ماذا يقولون؟'},\n",
              "  {'timestamp': (3.66, 5.94), 'text': ' يقولون لقد طرقها العرسل للا تزفاف'},\n",
              "  {'timestamp': (5.94, 6.94), 'text': ' بأس الخبر'},\n",
              "  {'timestamp': (6.94, 8.22), 'text': ' هل هي سيئة السمعة؟'},\n",
              "  {'timestamp': (8.22, 10.14), 'text': ' إنها غراء فرعقو مصكل مع وارد'},\n",
              "  {'timestamp': (10.14, 12.18),\n",
              "   'text': ' وها تمشي الهوانة كما يمشي الواجل وحلو'},\n",
              "  {'timestamp': (12.18, 13.3), 'text': ' فاسمع ماذا يقولون؟'},\n",
              "  {'timestamp': (13.3, 15.3), 'text': ' إننا نراضون فاليقار'},\n",
              "  {'timestamp': (15.3, 16.9), 'text': ' آجه يقالوا ما يقار'},\n",
              "  {'timestamp': (16.9, 18.9), 'text': ' لكن لنا تزواج من هذا الشقي'},\n",
              "  {'timestamp': (18.9, 20.9), 'text': ' كوني محترمة تانيا نوسة'},\n",
              "  {'timestamp': (20.9, 23.14), 'text': ' وإلا فوقسموا بالطلاق بالتلام وناتو'},\n",
              "  {'timestamp': (23.14, 24.66), 'text': ' مو قلوية ورش لحلاله'},\n",
              "  {'timestamp': (24.66, 25.3), 'text': ' حسنان؟'},\n",
              "  {'timestamp': (25.3, 26.22), 'text': ' ما خبك يا فتاة؟'},\n",
              "  {'timestamp': (26.22, 27.82), 'text': ' ألا يملأ واحدوا معي ناك يا أماذة'},\n",
              "  {'timestamp': (27.82, 29.42), 'text': ' فالتدلي بدلو كيا أمام'},\n",
              "  {'timestamp': (0.0, 2.0), 'text': ' ويكلتك أمك'},\n",
              "  {'timestamp': (6.0, 8.0), 'text': ' أن نجدتوا يعباد الله'},\n",
              "  {'timestamp': (8.0, 9.0), 'text': ' صافكة صغيري'},\n",
              "  {'timestamp': (9.0, 11.0), 'text': ' إن حدث فقد ربيحتي'},\n",
              "  {'timestamp': (11.0, 13.0), 'text': ' إنه مدين ينوز'},\n",
              "  {'timestamp': (13.0, 15.0), 'text': ' ينتظر السفافة لتفريج كربة'},\n",
              "  {'timestamp': (15.0, 16.0), 'text': ' عظم'}]}"
            ]
          },
          "metadata": {},
          "execution_count": 17
        }
      ]
    },
    {
      "cell_type": "code",
      "source": [
        "pipe = pipeline(\"automatic-speech-recognition\", model=\"SamaYousef/whisper-small-Arabic-finetund\")\n",
        "result = pipe(\"اللمبي مترجم بطريقة نتفليكس 😀.mp3\",return_timestamps=True)"
      ],
      "metadata": {
        "colab": {
          "base_uri": "https://localhost:8080/"
        },
        "id": "BopF9hF4aO4p",
        "outputId": "e2dcd9bf-fc28-46f5-ff62-b2acbf9a666a"
      },
      "execution_count": null,
      "outputs": [
        {
          "output_type": "stream",
          "name": "stderr",
          "text": [
            "/usr/local/lib/python3.10/dist-packages/transformers/models/whisper/generation_whisper.py:509: FutureWarning: The input name `inputs` is deprecated. Please make sure to use `input_features` instead.\n",
            "  warnings.warn(\n"
          ]
        }
      ]
    },
    {
      "cell_type": "code",
      "source": [
        "result"
      ],
      "metadata": {
        "colab": {
          "base_uri": "https://localhost:8080/"
        },
        "id": "xyjAAG1_aTEx",
        "outputId": "60279931-746d-4127-e769-9edc316f4d6d"
      },
      "execution_count": null,
      "outputs": [
        {
          "output_type": "execute_result",
          "data": {
            "text/plain": [
              "{'text': ' أَنَّتَزَوَجُ مُطلَقَا بَتَاتاً وَ أَيضَم إِمتَعَلَام! لَتُفسِدِ زِيجَةَ يَانُوسَا إِنَّنِ اللِّمبِيُّ يَفَتَات! العِشقُ يَفَتَات! أَمَامَ أَبِيه! أَمَامَ مَن إِدء! أَرَايَتِي تَمَجُحَ هَذَا الأَبلَا! إِنَّ صَرِف أَيُوهَا الأَحمَكُ المَعَتُو! وَ إِلتَنصَرِ فِي أَوَالَد وَ أَنسِت لَأُمِّي! إِنَّ صَرِف أَيُوهَا الأَحمَك جَعَلتَنَ أَردَثِ لِكَلَامِ الرَّاعِ المُتَشَارِدِين! وَ إِلَى تَحسَن إِلَى تَضرِبِي أَمَّاه! لَتَجعِل إِنِّ بُدرُبُ المَارَة فِي أَرجَاءِ هَذَا المَنزِل! مَا هَذَا! إِنِّ صَرِف وَلَا تُثَارِف!أَلَكِ مَطلُوبَةٌ لِلعَدَالَةإِذْهَمْ يَبْنَ الْمَنْكُوب سَمْعَ نُوطَاعَةً يَوْمَّة إِزِيَجَةُ مُبَارَاكَةٌ يَالِمْبِي وَ فَكَكَ الْلَّهُ يَاصَاح مُبَارَكُن يَالِمْبِي لَهُمَا لَهُ عَلَيهِم عَلَيهِ يَارَتِيهِ إِذْنِيَة إِذَا بِيَبنَ الْمَنْكُوب سَمْعَ نُوطَاعَةً يَوْمَّا إِزِيجَةُ مُبَرَاكَةُ نِيَال إِمبِيّ وَ فَكَكَ اللهُ يَاصَاح مُبَارَكُ نِيَال إِمبِيّ لَهُمَا لَهُم عَلَيهِم عَلَيهِي رَجُول لَيتَهُ لَيَتِمُّ هَذَا الزِّفَاث إِنَّ تَعَلَى أَمهَيَتِمُ الزِّفَافُ يَنُوسَةُ رُغمَا أَنفِك حَتَّى لَو الضُّرُورِتُ الِستِيجَارِ إِحْدَاهُنَّ الِلْزَّوَاج فَانَرَى مَن يَسْتَأَجُر هَيَ رُوْحَ أُمِك أَرَى رَايِتِهِ هَذَا يَخَالَتِي لِنَخْتَصِ الْهَذِهِ الْكِصَّةَ يَنُوسَ حِفَظَاً عَلَى الْمَارَارَة لَأُرِيدُ لَلْفَجِيح! أَيُو فَضِيحَةٍ يَسَيْدَ فَرَنْسَا وَالَدُو كِي لَم يَخْتَلِي بِبْنَتِه وَلَم يَمْسَس مِنهَا شَعْرَةً وَعْحِدَةهَذَا كَوْلُكَ أَنْت أَنْتَ وَأَنْت لَكَنْ إِنْ حَذَثَهَا وَ طَلَبَهَا أَحَدُوْمْ لِلزَّوَاجُه وَ سَألَا الْنَّاس مَذَا يَكُولُون يَكُولُون لَقَد طَرَقَهَا لَعَرِسُه لَلَالَاتِ الزِّفَاف بَأَسَ الْخَابِر هَل هِيَ سَيَآتُ الْسُّوْمَه إِنَّهَا غَرَّائُفٌ عَؤُو مَزْكُلُن عَوَارِضُهَا تَمشِي الْهُوَانِي كَمَا يَمشِي الْوَاجِل وَحِلُه فَاسْمَع مَذَا يَكُولُه إِنَّا نَارَادُون فَذِي يُقَال إِجَ يُقَالُو مَا يُقَال إِكِل لَكِل لَنَّا تَزَوَجَ مِن هَذُّ الشِّقِّي كُونِي مُحْتَرَمَةَ نَيَانُوسَة وَ إِلَى فَعُكسِ مُبِي الْطَلَاقِ بِالتَّلَام وَنَاتُ مَعتُدلِمِنَ الوِكِيَّة وَيَيكِلَة قَاءُ أُمَّقأَنَّجدَتُ إِعَابَادَ الله سَأَفكَتُ صَغِيرِإِن حَادَفَ فَقَدرَ بِيحْتِيإِنَّهُ مَدِينُ يَنُوْسِه يُمْتَظُرُ إِسْدِفَافَ الِتَّفْرِيجِ كَرْبِي عَظُم',\n",
              " 'chunks': [{'timestamp': (0.0, 3.4),\n",
              "   'text': ' أَنَّتَزَوَجُ مُطلَقَا بَتَاتاً وَ أَيضَم إِمتَعَلَام!'},\n",
              "  {'timestamp': (3.4, 7.4),\n",
              "   'text': ' لَتُفسِدِ زِيجَةَ يَانُوسَا إِنَّنِ اللِّمبِيُّ يَفَتَات!'},\n",
              "  {'timestamp': (7.4, 8.4), 'text': ' العِشقُ يَفَتَات!'},\n",
              "  {'timestamp': (8.4, 9.4), 'text': ' أَمَامَ أَبِيه!'},\n",
              "  {'timestamp': (9.4, 10.4), 'text': ' أَمَامَ مَن إِدء!'},\n",
              "  {'timestamp': (10.4, 11.9), 'text': ' أَرَايَتِي تَمَجُحَ هَذَا الأَبلَا!'},\n",
              "  {'timestamp': (11.9, 13.9),\n",
              "   'text': ' إِنَّ صَرِف أَيُوهَا الأَحمَكُ المَعَتُو!'},\n",
              "  {'timestamp': (13.9, 16.4),\n",
              "   'text': ' وَ إِلتَنصَرِ فِي أَوَالَد وَ أَنسِت لَأُمِّي!'},\n",
              "  {'timestamp': (16.4, 19.9),\n",
              "   'text': ' إِنَّ صَرِف أَيُوهَا الأَحمَك جَعَلتَنَ أَردَثِ لِكَلَامِ الرَّاعِ المُتَشَارِدِين!'},\n",
              "  {'timestamp': (19.9, 21.4),\n",
              "   'text': ' وَ إِلَى تَحسَن إِلَى تَضرِبِي أَمَّاه!'},\n",
              "  {'timestamp': (21.4, 24.4),\n",
              "   'text': ' لَتَجعِل إِنِّ بُدرُبُ المَارَة فِي أَرجَاءِ هَذَا المَنزِل!'},\n",
              "  {'timestamp': (24.4, 25.4), 'text': ' مَا هَذَا!'},\n",
              "  {'timestamp': (25.4, 29.9), 'text': ' إِنِّ صَرِف وَلَا تُثَارِف!'},\n",
              "  {'timestamp': (0.0, 1.0), 'text': 'أَلَكِ مَطلُوبَةٌ لِلعَدَالَة'},\n",
              "  {'timestamp': (1.0, 2.8), 'text': 'إِذْهَمْ يَبْنَ الْمَنْكُوب'},\n",
              "  {'timestamp': (2.8, 4.8), 'text': ' سَمْعَ نُوطَاعَةً يَوْمَّة'},\n",
              "  {'timestamp': (6.8, 8.8), 'text': ' إِزِيَجَةُ مُبَارَاكَةٌ يَالِمْبِي'},\n",
              "  {'timestamp': (8.8, 10.0), 'text': ' وَ فَكَكَ الْلَّهُ يَاصَاح'},\n",
              "  {'timestamp': (10.4, 11.8), 'text': ' مُبَارَكُن يَالِمْبِي'},\n",
              "  {'timestamp': (11.8, 17.2),\n",
              "   'text': ' لَهُمَا لَهُ عَلَيهِم عَلَيهِ يَارَتِيهِ إِذْنِيَة'},\n",
              "  {'timestamp': (0.0, 4.16),\n",
              "   'text': ' إِذَا بِيَبنَ الْمَنْكُوب سَمْعَ نُوطَاعَةً يَوْمَّا'},\n",
              "  {'timestamp': (0.0, 11.56),\n",
              "   'text': ' إِزِيجَةُ مُبَرَاكَةُ نِيَال إِمبِيّ وَ فَكَكَ اللهُ يَاصَاح مُبَارَكُ نِيَال إِمبِيّ لَهُمَا لَهُم عَلَيهِم عَلَيهِي رَجُول لَيتَهُ لَيَتِمُّ هَذَا الزِّفَاث إِنَّ تَعَلَى أَم'},\n",
              "  {'timestamp': (0.0, 4.68),\n",
              "   'text': 'هَيَتِمُ الزِّفَافُ يَنُوسَةُ رُغمَا أَنفِك حَتَّى لَو الضُّرُورِتُ الِستِيجَارِ إِحْدَاهُنَّ الِلْزَّوَاج'},\n",
              "  {'timestamp': (6.0, 7.88),\n",
              "   'text': ' فَانَرَى مَن يَسْتَأَجُر هَيَ رُوْحَ أُمِك'},\n",
              "  {'timestamp': (9.44, 13.72),\n",
              "   'text': ' أَرَى رَايِتِهِ هَذَا يَخَالَتِي لِنَخْتَصِ الْهَذِهِ الْكِصَّةَ يَنُوسَ حِفَظَاً عَلَى الْمَارَارَة'},\n",
              "  {'timestamp': (13.72, 15.8), 'text': ' لَأُرِيدُ لَلْفَجِيح!'},\n",
              "  {'timestamp': (15.8, 20.84),\n",
              "   'text': ' أَيُو فَضِيحَةٍ يَسَيْدَ فَرَنْسَا وَالَدُو كِي لَم يَخْتَلِي بِبْنَتِه وَلَم يَمْسَس مِنهَا شَعْرَةً وَعْحِدَة'},\n",
              "  {'timestamp': (0.0, 2.9),\n",
              "   'text': 'هَذَا كَوْلُكَ أَنْت أَنْتَ وَأَنْت لَكَنْ إِنْ حَذَثَهَا وَ طَلَبَهَا أَحَدُوْمْ لِلزَّوَاجُه وَ سَألَا الْنَّاس مَذَا يَكُولُون يَكُولُون لَقَد طَرَقَهَا لَعَرِسُه لَلَالَاتِ الزِّفَاف بَأَسَ الْخَابِر هَل هِيَ سَيَآتُ الْسُّوْمَه إِنَّهَا غَرَّائُفٌ عَؤُو مَزْكُلُن عَوَارِضُهَا تَمشِي الْهُوَانِي كَمَا يَمشِي الْوَاجِل وَحِلُه فَاسْمَع مَذَا يَكُولُه إِنَّا نَارَادُون فَذِي يُقَال إِجَ يُقَالُو مَا يُقَال إِكِل لَكِل لَنَّا تَزَوَجَ مِن هَذُّ الشِّقِّي كُونِي مُحْتَرَمَةَ نَيَانُوسَة وَ إِلَى فَعُكسِ مُبِي الْطَلَاقِ بِالتَّلَام وَنَاتُ مَعتُدلِمِنَ الوِكِيَّة وَيَيكِلَة قَاءُ أُمَّق'},\n",
              "  {'timestamp': (7.68, 10.98),\n",
              "   'text': 'أَنَّجدَتُ إِعَابَادَ الله سَأَفكَتُ صَغِيرِ'},\n",
              "  {'timestamp': (10.98, 12.56), 'text': 'إِن حَادَفَ فَقَدرَ بِيحْتِي'},\n",
              "  {'timestamp': (13.18, 16.9),\n",
              "   'text': 'إِنَّهُ مَدِينُ يَنُوْسِه يُمْتَظُرُ إِسْدِفَافَ الِتَّفْرِيجِ كَرْبِي عَظُم'}]}"
            ]
          },
          "metadata": {},
          "execution_count": 19
        }
      ]
    },
    {
      "cell_type": "code",
      "source": [
        "pipe = pipeline(\"automatic-speech-recognition\", model=\"openai/whisper-small\")\n",
        "result = pipe(\"وطر ما فيه من عيب سوى - فرح شريم Farah Chreim.mp3\",return_timestamps=True)"
      ],
      "metadata": {
        "colab": {
          "base_uri": "https://localhost:8080/"
        },
        "id": "JlYoN0QhmjUJ",
        "outputId": "e20fbe35-d596-4019-d472-f97c2ebca7a9"
      },
      "execution_count": null,
      "outputs": [
        {
          "metadata": {
            "tags": null
          },
          "name": "stderr",
          "output_type": "stream",
          "text": [
            "/usr/local/lib/python3.10/dist-packages/transformers/models/whisper/generation_whisper.py:509: FutureWarning: The input name `inputs` is deprecated. Please make sure to use `input_features` instead.\n",
            "  warnings.warn(\n"
          ]
        }
      ]
    },
    {
      "cell_type": "code",
      "source": [
        "result"
      ],
      "metadata": {
        "colab": {
          "base_uri": "https://localhost:8080/"
        },
        "id": "nzb9pLZImnct",
        "outputId": "f936a859-f3bd-483a-8356-3a76bc66a399"
      },
      "execution_count": null,
      "outputs": [
        {
          "output_type": "execute_result",
          "data": {
            "text/plain": [
              "{'text': ' وطار ما فيه من عايب سوى أنه مرك لامح البصري سداد السهما وسما ورما ففؤادي نهبت المفترسي والذي أجرد موعي عندما عندما عرت من غير سبب دعلى صدري يمناك فما أجدر الماء بإدفاء الهب وطرم ما فيه من عيب سوى أنه مرك لامح البصار',\n",
              " 'chunks': [{'timestamp': (0.0, 5.5), 'text': ' وطار ما فيه من عايب سوى'},\n",
              "  {'timestamp': (5.5, 10.8), 'text': ' أنه مرك لامح البصري'},\n",
              "  {'timestamp': (10.8, 16.0), 'text': ' سداد السهما وسما ورما'},\n",
              "  {'timestamp': (16.0, 21.0), 'text': ' ففؤادي نهبت المفترسي'},\n",
              "  {'timestamp': (21.0, 26.5), 'text': ' والذي أجرد موعي عندما'},\n",
              "  {'timestamp': (0.0, 5.0), 'text': ' عندما عرت من غير سبب'},\n",
              "  {'timestamp': (5.0, 10.0), 'text': ' دعلى صدري يمناك فما'},\n",
              "  {'timestamp': (10.0, 15.0), 'text': ' أجدر الماء بإدفاء الهب'},\n",
              "  {'timestamp': (15.0, 20.0), 'text': ' وطرم ما فيه من عيب سوى'},\n",
              "  {'timestamp': (20.0, 27.0), 'text': ' أنه مرك لامح البصار'}]}"
            ]
          },
          "metadata": {},
          "execution_count": 21
        }
      ]
    },
    {
      "cell_type": "code",
      "source": [
        "pipe = pipeline(\"automatic-speech-recognition\", model=\"SamaYousef/whisper-small-Arabic-finetund\")\n",
        "result = pipe(\"وطر ما فيه من عيب سوى - فرح شريم Farah Chreim.mp3\",return_timestamps=True)"
      ],
      "metadata": {
        "colab": {
          "base_uri": "https://localhost:8080/"
        },
        "id": "rkMSk2jKmp_8",
        "outputId": "eb8709d9-b4b2-4041-82d7-54c17a26c7b2"
      },
      "execution_count": null,
      "outputs": [
        {
          "output_type": "stream",
          "name": "stderr",
          "text": [
            "/usr/local/lib/python3.10/dist-packages/transformers/models/whisper/generation_whisper.py:509: FutureWarning: The input name `inputs` is deprecated. Please make sure to use `input_features` instead.\n",
            "  warnings.warn(\n",
            "Whisper did not predict an ending timestamp, which can happen if audio is cut off in the middle of a word. Also make sure WhisperTimeStampLogitsProcessor was used during generation.\n"
          ]
        }
      ]
    },
    {
      "cell_type": "code",
      "source": [
        "result"
      ],
      "metadata": {
        "colab": {
          "base_uri": "https://localhost:8080/"
        },
        "id": "sVJJTBS1mpXw",
        "outputId": "75efd1f7-7aac-41c0-b4da-3b6c65b801a1"
      },
      "execution_count": null,
      "outputs": [
        {
          "output_type": "execute_result",
          "data": {
            "text/plain": [
              "{'text': 'وَطَارٌ مَاهِفِيهِ مِن عَيِبٍ سِوَاة أَنَّهُ مَرَّكَ الَامحِ البَصَارِي سَدَّادَ السَّهمَة وَسَمَّة وَرَامَة فَفُؤَادِي نُهبَتُ المُفتَرِيسِي وَالَّذِي أَجرَضُ مُوعِي عِندَمَاعِندَ مَا عَرَتَّ مِن غَيرِ سَذَاب دَعَا عَلَى صَدْرِيَا يُمْنَى كَفَّمَا أَجْدَرَ الْمَاء بِإِتْفَاءِ الْلَهَب وَالطَارُمْمَا فِي مِن عَيِبٍ سِوَا أَنَّهُ مَر كَلَامْحِ الْبَصَارِي',\n",
              " 'chunks': [{'timestamp': (0.0, 5.8),\n",
              "   'text': 'وَطَارٌ مَاهِفِيهِ مِن عَيِبٍ سِوَاة'},\n",
              "  {'timestamp': (5.8, 10.96), 'text': ' أَنَّهُ مَرَّكَ الَامحِ البَصَارِي'},\n",
              "  {'timestamp': (10.96, 16.2),\n",
              "   'text': ' سَدَّادَ السَّهمَة وَسَمَّة وَرَامَة'},\n",
              "  {'timestamp': (16.2, 21.32), 'text': ' فَفُؤَادِي نُهبَتُ المُفتَرِيسِي'},\n",
              "  {'timestamp': (21.32, 26.48), 'text': ' وَالَّذِي أَجرَضُ مُوعِي عِندَمَا'},\n",
              "  {'timestamp': (0.0, None),\n",
              "   'text': 'عِندَ مَا عَرَتَّ مِن غَيرِ سَذَاب دَعَا عَلَى صَدْرِيَا يُمْنَى كَفَّمَا أَجْدَرَ الْمَاء بِإِتْفَاءِ الْلَهَب وَالطَارُمْمَا فِي مِن عَيِبٍ سِوَا أَنَّهُ مَر كَلَامْحِ الْبَصَارِي'}]}"
            ]
          },
          "metadata": {},
          "execution_count": 23
        }
      ]
    }
  ]
}